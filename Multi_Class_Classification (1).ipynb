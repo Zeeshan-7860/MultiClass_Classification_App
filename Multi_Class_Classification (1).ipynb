{
  "cells": [
    {
      "cell_type": "code",
      "execution_count": 2,
      "metadata": {
        "id": "FvSPQzFvqNbj"
      },
      "outputs": [],
      "source": [
        "import numpy as np\n",
        "import tensorflow as tf\n",
        "from tensorflow.keras.datasets import cifar10\n",
        "from tensorflow.keras.models import Sequential\n",
        "from tensorflow.keras.layers import Dense, Flatten, Conv2D, MaxPooling2D\n",
        "import cv2\n",
        "import matplotlib.pyplot as plt"
      ]
    },
    {
      "cell_type": "code",
      "execution_count": null,
      "metadata": {
        "id": "XH61_r-KoJ3W"
      },
      "outputs": [],
      "source": [
        "(x_train, y_train), (x_test, y_test) = cifar10.load_data()\n",
        "\n",
        "# Step 2: Preprocess the data\n",
        "x_train = x_train.astype('float32') / 255.0\n",
        "x_test = x_test.astype('float32') / 255.0\n",
        "\n",
        "# Step 3: Build the neural network model\n",
        "model = Sequential([\n",
        "    Conv2D(32, (3, 3), activation='relu', input_shape=(32, 32, 3)),\n",
        "    MaxPooling2D((2, 2)),\n",
        "    Conv2D(64, (3, 3), activation='relu'),\n",
        "    MaxPooling2D((2, 2)),\n",
        "    Flatten(),\n",
        "    Dense(64, activation='relu'),\n",
        "    Dense(10, activation='softmax')\n",
        "])\n",
        "\n",
        "# Step 4: Compile the model\n",
        "model.compile(optimizer='adam', loss='sparse_categorical_crossentropy', metrics=['accuracy'])\n",
        "\n",
        "# Step 5: Train the model on the CIFAR-10 dataset\n",
        "model.fit(x_train, y_train, epochs=50, batch_size=32, validation_data=(x_test, y_test))"
      ]
    },
    {
      "cell_type": "code",
      "execution_count": null,
      "metadata": {
        "id": "mEPNXaO5uZSO"
      },
      "outputs": [],
      "source": [
        "# Assuming you have a new input image stored in a variable 'new_input_image_path'\n",
        "new_input_image_path = 'path to your image'\n",
        "\n",
        "# Load and preprocess the new input image\n",
        "new_input_image = cv2.imread(new_input_image_path)\n",
        "new_input_image = cv2.resize(new_input_image, (32, 32))\n",
        "new_input_image = new_input_image.astype('float32') / 255.0\n",
        "new_input_image = np.expand_dims(new_input_image, axis=0)  # Add a batch dimension\n",
        "\n",
        "# Make prediction\n",
        "prediction = model.predict(new_input_image)\n",
        "\n",
        "# Get the class label with the highest probability\n",
        "predicted_class_index = np.argmax(prediction)\n",
        "class_labels = {\n",
        "    0: \"airplane\",\n",
        "    1: \"automobile\",\n",
        "    2: \"bird\",\n",
        "    3: \"cat\",\n",
        "    4: \"deer\",\n",
        "    5: \"dog\",\n",
        "    6: \"frog\",\n",
        "    7: \"horse\",\n",
        "    8: \"ship\",\n",
        "    9: \"truck\"\n",
        "}\n",
        "predicted_class_label = class_labels[predicted_class_index]\n",
        "\n",
        "new_input_image = new_input_image.squeeze()  # Remove the batch dimension\n",
        "plt.imshow(new_input_image)\n",
        "plt.title(f\"Predicted class: {predicted_class_label}\")\n",
        "plt.axis('off')\n",
        "plt.show()\n"
      ]
    },
    {
      "cell_type": "code",
      "execution_count": null,
      "metadata": {
        "colab": {
          "base_uri": "https://localhost:8080/"
        },
        "id": "UzeGAfQ9wUyp",
        "outputId": "3069f7a8-1ae5-441b-c7b2-b8346c4aee40"
      },
      "outputs": [
        {
          "name": "stderr",
          "output_type": "stream",
          "text": [
            "WARNING:absl:Found untraced functions such as _jit_compiled_convolution_op, _jit_compiled_convolution_op, _update_step_xla while saving (showing 3 of 3). These functions will not be directly callable after loading.\n"
          ]
        }
      ],
      "source": [
        "converter = tf.lite.TFLiteConverter.from_keras_model(model)\n",
        "tflite_model = converter.convert()\n",
        "# Save the TFLite model to a file\n",
        "with open('modelzee.tflite', 'wb') as f:\n",
        "    f.write(tflite_model)"
      ]
    }
  ],
  "metadata": {
    "colab": {
      "provenance": []
    },
    "kernelspec": {
      "display_name": "Python 3",
      "name": "python3"
    },
    "language_info": {
      "name": "python"
    }
  },
  "nbformat": 4,
  "nbformat_minor": 0
}
